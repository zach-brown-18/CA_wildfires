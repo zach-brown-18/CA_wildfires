{
 "metadata": {
  "language_info": {
   "codemirror_mode": {
    "name": "ipython",
    "version": 3
   },
   "file_extension": ".py",
   "mimetype": "text/x-python",
   "name": "python",
   "nbconvert_exporter": "python",
   "pygments_lexer": "ipython3",
   "version": "3.7.6-final"
  },
  "orig_nbformat": 2,
  "kernelspec": {
   "name": "python_defaultSpec_1599115983510",
   "display_name": "Python 3.7.6 64-bit ('anaconda3': virtualenv)"
  }
 },
 "nbformat": 4,
 "nbformat_minor": 2,
 "cells": [
  {
   "cell_type": "markdown",
   "metadata": {},
   "source": [
    "# Scraping Data"
   ]
  },
  {
   "cell_type": "code",
   "execution_count": 1,
   "metadata": {},
   "outputs": [],
   "source": [
    "from requests import get\n",
    "from bs4 import BeautifulSoup"
   ]
  },
  {
   "cell_type": "code",
   "execution_count": 2,
   "metadata": {},
   "outputs": [],
   "source": [
    "url = \"https://en.wikipedia.org/wiki/List_of_California_wildfires\"\n",
    "page = get(url).text\n",
    "soup = BeautifulSoup(page, 'html.parser')"
   ]
  },
  {
   "cell_type": "markdown",
   "metadata": {},
   "source": [
    "### Table Titles"
   ]
  },
  {
   "cell_type": "code",
   "execution_count": 3,
   "metadata": {},
   "outputs": [],
   "source": [
    "from itertools import compress\n",
    "\n",
    "table_titles_html = soup.find_all(class_ = 'mw-headline')\n",
    "table_titles = [title.get_text() for title in table_titles_html][:-3]\n",
    "mask = [1,1,1,0,0,1,1,0]\n",
    "table_titles = list(compress(table_titles, mask))"
   ]
  },
  {
   "cell_type": "markdown",
   "metadata": {},
   "source": [
    "### Column Titles"
   ]
  },
  {
   "cell_type": "code",
   "execution_count": 4,
   "metadata": {},
   "outputs": [],
   "source": [
    "tables = soup.find_all('table')\n",
    "table_headers_html = [table.find_all('th') for table in tables]\n",
    "table_headers = []\n",
    "for table in table_headers_html:\n",
    "    table_headers_next = [header.get_text().replace('\\n','') for header in table]\n",
    "    table_headers.append(table_headers_next)\n",
    "table_headers = table_headers[:5]"
   ]
  },
  {
   "cell_type": "markdown",
   "metadata": {},
   "source": [
    "### Table Data"
   ]
  },
  {
   "cell_type": "code",
   "execution_count": 5,
   "metadata": {},
   "outputs": [],
   "source": [
    "table_data_html = [table.find_all('tr')[1:] for table in tables]\n",
    "table_data = []\n",
    "for table in table_data_html:\n",
    "    rows = []\n",
    "    for row_html in table:\n",
    "        row = []\n",
    "        next_row = row_html.find_all('td')\n",
    "        for element in next_row:\n",
    "            next_element = element.get_text().replace('\\n','')\n",
    "            row.append(next_element)\n",
    "        rows.append(row)\n",
    "    table_data.append(rows)\n",
    "table_data = table_data[:5]"
   ]
  },
  {
   "cell_type": "markdown",
   "metadata": {},
   "source": [
    "### Making DataFrames"
   ]
  },
  {
   "cell_type": "code",
   "execution_count": 6,
   "metadata": {},
   "outputs": [],
   "source": [
    "import pandas as pd\n",
    "tables_all_data = zip(table_titles, table_headers, table_data)\n",
    "dfs = {title: pd.DataFrame(data, columns=headers) for title, headers, data in tables_all_data}\n",
    "\n",
    "# Yearly Statistics has different column headers and format. Process independently.\n",
    "summary_post_2000 = dfs['Yearly statistics']\n",
    "dfs.pop('Yearly statistics', None)\n",
    "table_titles = ['Largest wildfires','Deadliest wildfires','Most destructive wildfires','Notable fires']"
   ]
  },
  {
   "cell_type": "markdown",
   "metadata": {},
   "source": [
    "# Cleaning Data"
   ]
  },
  {
   "cell_type": "code",
   "execution_count": 9,
   "metadata": {},
   "outputs": [],
   "source": [
    "# Remove Wikipedia reference links\n",
    "summary_post_2000 = summary_post_2000.drop(columns='Ref')\n",
    "dfs['Notable fires'] = dfs['Notable fires'].drop(columns='Ref')\n",
    "dfs['Deadliest wildfires'].iloc[0,0] = dfs['Deadliest wildfires'].iloc[0,0].replace('[13][14][15]','')\n",
    "dfs['Most destructive wildfires'].iloc[0,0] = dfs['Most destructive wildfires'].iloc[0,0].replace('[13][14][15]','')"
   ]
  },
  {
   "cell_type": "code",
   "execution_count": 10,
   "metadata": {},
   "outputs": [],
   "source": [
    "# Drop totals column\n",
    "summary_post_2000 = summary_post_2000[:-1]"
   ]
  },
  {
   "cell_type": "markdown",
   "metadata": {},
   "source": [
    "### Alter 'Start date' column to reflect 'start year'. Change type to int"
   ]
  },
  {
   "cell_type": "code",
   "execution_count": null,
   "metadata": {},
   "outputs": [],
   "source": [
    "start_year = [int(date.split(' ')[1]) for date in dfs['Largest wildfires']['Start date']]\n",
    "dfs['Largest wildfires']['Start date'] = start_year"
   ]
  },
  {
   "cell_type": "markdown",
   "metadata": {},
   "source": [
    "### Format Hectares and Acres columns and change to numerical type"
   ]
  },
  {
   "cell_type": "code",
   "execution_count": 11,
   "metadata": {},
   "outputs": [],
   "source": [
    "for title in dfs:\n",
    "    for index, val in enumerate(dfs[title]['Hectares']):\n",
    "        dfs[title]['Hectares'][index] = val.replace(',','')\n",
    "    for index, val in enumerate(dfs[title]['Acres']):\n",
    "        dfs[title]['Acres'][index] = val.replace(',','')"
   ]
  },
  {
   "cell_type": "code",
   "execution_count": 12,
   "metadata": {},
   "outputs": [],
   "source": [
    "# Fill missing data\n",
    "missing_acres = dfs['Most destructive wildfires']['Acres'][9]\n",
    "conversion = .404686\n",
    "dfs['Most destructive wildfires']['Hectares'][9] = round(int(missing_acres) * conversion)\n"
   ]
  },
  {
   "cell_type": "code",
   "execution_count": 13,
   "metadata": {},
   "outputs": [],
   "source": [
    "for title in dfs:\n",
    "    dfs[title]['Hectares'] = dfs[title]['Hectares'].astype('int')\n",
    "    dfs[title]['Acres'] = dfs[title]['Acres'].astype('int')"
   ]
  },
  {
   "cell_type": "markdown",
   "metadata": {},
   "source": [
    "### Process location data so that the fires can be easily plotted "
   ]
  },
  {
   "cell_type": "code",
   "execution_count": 14,
   "metadata": {},
   "outputs": [],
   "source": [
    "# For fires that span multiple counties, pick one to map it\n",
    "def cleanCounties(county_list):\n",
    "    return county_list.split(',')[0]"
   ]
  },
  {
   "cell_type": "code",
   "execution_count": 15,
   "metadata": {},
   "outputs": [],
   "source": [
    "for title in dfs:\n",
    "    dfs[title]['County'] = dfs[title]['County'].apply(cleanCounties)"
   ]
  },
  {
   "cell_type": "code",
   "execution_count": 16,
   "metadata": {},
   "outputs": [],
   "source": [
    "# Get fips codes\n",
    "fips = pd.read_csv(\"csv/ca_fips.csv\", dtype={\"fips\": str})\n",
    "\n",
    "def findCountyFips(county):\n",
    "    for index, row in fips.iterrows():\n",
    "        if row[1] == county:\n",
    "            return row[0]\n",
    "\n",
    "# Add fips codes to dfs\n",
    "for title in dfs:\n",
    "    dfs[title]['fips'] = dfs[title]['County'].apply(findCountyFips)"
   ]
  },
  {
   "cell_type": "markdown",
   "metadata": {},
   "source": [
    "### Approximate latitude and longitude of each county"
   ]
  },
  {
   "cell_type": "code",
   "execution_count": 17,
   "metadata": {},
   "outputs": [],
   "source": [
    "from urllib.request import urlopen\n",
    "import json\n",
    "with urlopen('https://raw.githubusercontent.com/plotly/datasets/master/geojson-counties-fips.json') as response:\n",
    "    counties = json.load(response)"
   ]
  },
  {
   "cell_type": "code",
   "execution_count": 18,
   "metadata": {},
   "outputs": [],
   "source": [
    "# Determine dimensionality of array\n",
    "def isSimpleArray(ndarray):\n",
    "    answer = (len(ndarray) == 1)\n",
    "    return answer\n",
    "\n",
    "# Approximate latitude and longitude of county to a single point\n",
    "def returnLatLon(ndarray):\n",
    "    if isSimpleArray(ndarray):\n",
    "        return ndarray[0][0]\n",
    "    return ndarray[0][0][0]"
   ]
  },
  {
   "cell_type": "code",
   "execution_count": 19,
   "metadata": {},
   "outputs": [],
   "source": [
    "ca_counties = []\n",
    "for county in counties['features']:\n",
    "    if county['properties']['STATE'] == '06':\n",
    "        lat_lon = returnLatLon(county['geometry']['coordinates'])\n",
    "        fips_and_coordinates = (county['id'], lat_lon)\n",
    "        ca_counties.append(fips_and_coordinates)"
   ]
  },
  {
   "cell_type": "code",
   "execution_count": 20,
   "metadata": {},
   "outputs": [],
   "source": [
    "def findCountyLat(fips):\n",
    "    for county in ca_counties:\n",
    "        if county[0] == fips:\n",
    "            return county[1][0]\n",
    "\n",
    "def findCountyLon(fips):\n",
    "    for county in ca_counties:\n",
    "        if county[0] == fips:\n",
    "            return county[1][1]\n",
    "\n",
    "# Add Lat and Lon for each county\n",
    "for title in dfs:\n",
    "    dfs[title]['lat'] = dfs[title]['fips'].apply(findCountyLat)\n",
    "    dfs[title]['lon'] = dfs[title]['fips'].apply(findCountyLon)  "
   ]
  },
  {
   "cell_type": "markdown",
   "metadata": {},
   "source": [
    "### Manually update counties when required"
   ]
  },
  {
   "cell_type": "code",
   "execution_count": 3,
   "metadata": {},
   "outputs": [],
   "source": [
    "county_lat_lon = dict(\n",
    "    los_angeles = (34.0522222,-118.2427778),\n",
    "    ventura = (34.2783352,-119.2931676),\n",
    "    santa_barbara = (34.4208333,-119.6972222),\n",
    "    mendocino = (39.3076744,-123.7994591),\n",
    "    fresno = (36.7477778,-119.7713889),\n",
    "    napa = (38.2972222,-122.2844444),\n",
    "    san_joaqin = (36.6066162,-120.1890447),\n",
    "    lassen = (40.651844,-120.869483),\n",
    "    san_bernardino = (34.115784,-117.302399)\n",
    ")"
   ]
  },
  {
   "cell_type": "code",
   "execution_count": null,
   "metadata": {},
   "outputs": [],
   "source": [
    "for title in dfs:\n",
    "    for index, row in enumerate(dfs[title]['County']):\n",
    "        if row == 'Los Angeles':\n",
    "            dfs[title]['lat'][index] = 34.0522222\n",
    "            dfs[title]['lon'][index] = -118.2427778\n",
    "        if row == 'Ventura':\n",
    "            dfs[title]['lat'][index] = 34.2783352\n",
    "            dfs[title]['lon'][index] = -119.2931676\n",
    "        if row == 'Santa Barbara':\n",
    "            dfs[title]['lat'][index] = 34.4208333\n",
    "            dfs[title]['lon'][index] = -119.6972222\n",
    "        if row == 'Mendocino':\n",
    "            dfs[title]['lat'][index] = 39.3076744\n",
    "            dfs[title]['lon'][index] = -123.7994591\n",
    "        if row == 'Fresno':\n",
    "            dfs[title]['lat'][index] = 36.7477778\n",
    "            dfs[title]['lon'][index] = -119.7713889\n",
    "        if row == 'Napa':\n",
    "            dfs[title]['lat'][index] = 38.2972222\n",
    "            dfs[title]['lon'][index] = -122.2844444\n",
    "        if row == 'San Joaqin':\n",
    "            dfs[title]['lat'][index] = 36.6066162\n",
    "            dfs[title]['lon'][index] = -120.1890447\n",
    "        if row == 'Lassen':\n",
    "            dfs[title]['lat'][index] = 40.651844\n",
    "            dfs[title]['lon'][index] = -120.869483\n",
    "        if row == 'San Bernardino':\n",
    "            dfs[title]['lat'][index] = county_lat_lon['san_bernardino'][0]\n",
    "            dfs[title]['lon'][index] = county_lat_lon['san_bernardino'][1]"
   ]
  }
 ]
}